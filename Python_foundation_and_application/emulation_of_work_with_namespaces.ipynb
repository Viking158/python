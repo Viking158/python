{
 "cells": [
  {
   "cell_type": "code",
   "execution_count": null,
   "metadata": {},
   "outputs": [],
   "source": [
    "#namespace:parent\n",
    "namespaces = {'global':'None'}\n",
    "#variable:namespace\n",
    "variables = {'global':[]}\n",
    "\n",
    "list_of_vars = []\n",
    "\n",
    "n = int(input())\n",
    "\n",
    "for i in range(n):\n",
    "    task, arg1, arg2 = map(str, input().split())\n",
    "    \n",
    "    if task == 'create':\n",
    "  #create <namespace> <parent> create new namespace, which is a child for namespace \"parent\"\n",
    "        namespaces.update({arg1:arg2})\n",
    "        variables.update({arg1:[]})\n",
    "        \n",
    "    elif task == 'get':\n",
    "    # get <namespace> <var>  get namespace or one of previos namespaces, where var is located\n",
    "        var = list(variables.keys())\n",
    "        namesp = list(variables.values())\n",
    "        if arg2 not in list_of_vars:\n",
    "            print('None')\n",
    "        elif arg2 in variables[arg1]:\n",
    "            print(arg1)\n",
    "        else:  \n",
    "            flag = 0   \n",
    "            while flag !=1:\n",
    "                if arg1 != 'global':\n",
    "                    arg1 = namespaces.get(arg1)\n",
    "                    if arg2 in variables[arg1]:\n",
    "                        print(arg1) \n",
    "                        flag = 1\n",
    "                else:\n",
    "                    print('None')\n",
    "                    flag = 1      \n",
    "                    \n",
    "    elif task == 'add':\n",
    "    #add <namespace> <var> add var to the namespace\n",
    "        variables[arg1].append(arg2)\n",
    "        list_of_vars.append(arg2)"
   ]
  },
  {
   "cell_type": "code",
   "execution_count": null,
   "metadata": {},
   "outputs": [],
   "source": []
  }
 ],
 "metadata": {
  "kernelspec": {
   "display_name": "Python 3",
   "language": "python",
   "name": "python3"
  },
  "language_info": {
   "codemirror_mode": {
    "name": "ipython",
    "version": 3
   },
   "file_extension": ".py",
   "mimetype": "text/x-python",
   "name": "python",
   "nbconvert_exporter": "python",
   "pygments_lexer": "ipython3",
   "version": "3.7.6"
  }
 },
 "nbformat": 4,
 "nbformat_minor": 4
}
