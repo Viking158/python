{
 "cells": [
  {
   "cell_type": "markdown",
   "metadata": {},
   "source": [
    "В этой задаче вам необходимо воспользоваться API сайта numbersapi.com\n",
    "Вам дается набор чисел. Для каждого из чисел необходимо узнать, существует ли интересный математический факт об этом числе.\n",
    "Для каждого числа выведите Interesting, если для числа существует интересный факт, и Boring иначе.\n",
    "Выводите информацию об интересности чисел в таком же порядке, в каком следуют числа во входном файле."
   ]
  },
  {
   "cell_type": "code",
   "execution_count": 19,
   "metadata": {},
   "outputs": [],
   "source": [
    "import json\n",
    "import requests\n",
    "import re"
   ]
  },
  {
   "cell_type": "code",
   "execution_count": 21,
   "metadata": {},
   "outputs": [
    {
     "name": "stdout",
     "output_type": "stream",
     "text": [
      "Interesting\n",
      "Boring\n",
      "Interesting\n",
      "Interesting\n",
      "Interesting\n",
      "Interesting\n",
      "Interesting\n",
      "Interesting\n",
      "Interesting\n",
      "Interesting\n",
      "Interesting\n",
      "Interesting\n",
      "Interesting\n",
      "Boring\n",
      "Interesting\n"
     ]
    }
   ],
   "source": [
    "url_api = \"http://numbersapi.com\"\n",
    "url_template = \"http://numbersapi.com/{}/math?json=true\"\n",
    "with open(\"dataset_24476_3.txt\") as f:\n",
    "    for line in f:\n",
    "        #params = {\n",
    "        #    \"number\" : int(line),\n",
    "        #    \"type\" : \"math\",\n",
    "        #    \"json\" : True\n",
    "        #}\n",
    "        number = int(line)\n",
    "        res = requests.get(url_template.format(number))\n",
    "        data = res.json()\n",
    "        if data[\"found\"]:\n",
    "            print(\"Interesting\")\n",
    "        else:    \n",
    "            print(\"Boring\")"
   ]
  },
  {
   "cell_type": "code",
   "execution_count": null,
   "metadata": {},
   "outputs": [],
   "source": []
  }
 ],
 "metadata": {
  "kernelspec": {
   "display_name": "Python 3",
   "language": "python",
   "name": "python3"
  },
  "language_info": {
   "codemirror_mode": {
    "name": "ipython",
    "version": 3
   },
   "file_extension": ".py",
   "mimetype": "text/x-python",
   "name": "python",
   "nbconvert_exporter": "python",
   "pygments_lexer": "ipython3",
   "version": "3.7.6"
  }
 },
 "nbformat": 4,
 "nbformat_minor": 4
}
