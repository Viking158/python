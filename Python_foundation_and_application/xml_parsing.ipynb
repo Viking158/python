{
 "cells": [
  {
   "cell_type": "markdown",
   "metadata": {},
   "source": [
    "Вам дано описание пирамиды из кубиков в формате XML.\n",
    "Кубики могут быть трех цветов: красный (red), зеленый (green) и синий (blue﻿).\n",
    "Для каждого кубика известны его цвет, и известны кубики, расположенные прямо под ним.\n",
    "Введем понятие ценности для кубиков. Самый верхний кубик, соответствующий корню XML документа имеет ценность 1. Кубики, расположенные прямо под ним, имеют ценность 2. Кубики, расположенные прямо под нижележащими кубиками, имеют ценность 3. И т. д.\n",
    "Ценность цвета равна сумме ценностей всех кубиков этого цвета.\n",
    "Выведите через пробел три числа: ценности красного, зеленого и синего цветов."
   ]
  },
  {
   "cell_type": "code",
   "execution_count": 1,
   "metadata": {},
   "outputs": [],
   "source": [
    "from xml.etree import ElementTree"
   ]
  },
  {
   "cell_type": "code",
   "execution_count": 90,
   "metadata": {},
   "outputs": [
    {
     "name": "stdout",
     "output_type": "stream",
     "text": [
      "<cube color=\"blue\"><cube color=\"red\"><cube color=\"green\"><cube color=\"green\"><cube color=\"green\"><cube color=\"blue\"></cube><cube color=\"green\"></cube><cube color=\"red\"></cube></cube></cube></cube></cube><cube color=\"red\"><cube color=\"blue\"></cube></cube></cube>\n"
     ]
    }
   ],
   "source": [
    "#<cube color=\"blue\"><cube color=\"red\"><cube color=\"green\"></cube></cube><cube color=\"red\"></cube></cube>\n",
    "tree = ElementTree.fromstring(input())"
   ]
  },
  {
   "cell_type": "code",
   "execution_count": 91,
   "metadata": {},
   "outputs": [],
   "source": [
    "def cubes_values(cube, value, res):\n",
    "    if cube.findall(\"cube\") == []:\n",
    "        res[cube.attrib['color']] += value\n",
    "        return value\n",
    "    else:\n",
    "        res[cube.attrib['color']] += value\n",
    "        value += 1\n",
    "        child_cubes = cube.findall(\"cube\")\n",
    "        for item in child_cubes:\n",
    "            #res_sum += cubes_values(item, value)\n",
    "            #print(item.attrib['color'])\n",
    "            cubes_values(item, value, res)\n",
    "            #res[item.attrib['color']] += value\n",
    "        return res    "
   ]
  },
  {
   "cell_type": "code",
   "execution_count": 96,
   "metadata": {},
   "outputs": [
    {
     "name": "stdout",
     "output_type": "stream",
     "text": [
      "10 18 10 \n"
     ]
    }
   ],
   "source": [
    "res = {\n",
    "       'red' : 0,\n",
    "       'green' : 0,\n",
    "       'blue' : 0\n",
    "      }\n",
    "\n",
    "result = cubes_values(tree,1 , res)\n",
    "s = ''\n",
    "for i in list(result.values()):\n",
    "    s += str(i) + ' '\n",
    "print(s)    "
   ]
  },
  {
   "cell_type": "code",
   "execution_count": null,
   "metadata": {},
   "outputs": [],
   "source": []
  }
 ],
 "metadata": {
  "kernelspec": {
   "display_name": "Python 3",
   "language": "python",
   "name": "python3"
  },
  "language_info": {
   "codemirror_mode": {
    "name": "ipython",
    "version": 3
   },
   "file_extension": ".py",
   "mimetype": "text/x-python",
   "name": "python",
   "nbconvert_exporter": "python",
   "pygments_lexer": "ipython3",
   "version": "3.7.6"
  }
 },
 "nbformat": 4,
 "nbformat_minor": 4
}
