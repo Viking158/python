{
 "cells": [
  {
   "cell_type": "markdown",
   "metadata": {},
   "source": [
    "Вам дано описание наследования классов в формате JSON.\n",
    "Описание представляет из себя массив JSON-объектов, которые соответствуют классам. У каждого JSON-объекта есть поле name, которое содержит имя класса, и поле parents, которое содержит список имен прямых предков."
   ]
  },
  {
   "cell_type": "code",
   "execution_count": 203,
   "metadata": {},
   "outputs": [
    {
     "name": "stdout",
     "output_type": "stream",
     "text": [
      "[{\"name\": \"beta\", \"parents\": [\"alpha\", \"gamma\"]}, {\"name\": \"gamma\", \"parents\": [\"alpha\"]}, {\"name\": \"alpha\", \"parents\": []}, {\"name\": \"delta\", \"parents\":[\"gamma\", \"zeta\"]}, {\"name\": \"epsilon\", \"parents\":[\"delta\"]}, {\"name\": \"zeta\", \"parents\":[]}]\n",
      "alpha : 5\n",
      "beta : 1\n",
      "delta : 2\n",
      "epsilon : 1\n",
      "gamma : 4\n",
      "zeta : 3\n"
     ]
    }
   ],
   "source": [
    "import json\n",
    "\n",
    "input_text = input()\n",
    "structure = {}\n",
    "input_text = json.loads(input_text)\n",
    "\n",
    "for item in input_text:\n",
    "    if item[\"name\"] not in structure.keys():\n",
    "        structure.update({item[\"name\"]:[]})\n",
    "        for parent in item[\"parents\"]:\n",
    "            structure[item[\"name\"]].append(parent)\n",
    "            \n",
    "classes = []\n",
    "parents = []\n",
    "\n",
    "for i in list(structure.keys()):\n",
    "    if i not in classes:\n",
    "        classes.append(i)\n",
    "            \n",
    "for i in structure.values():\n",
    "    for k in i:\n",
    "        if k not in parents:\n",
    "            parents.append(k)\n",
    "            \n",
    "for parent in parents:\n",
    "    if parent not in classes:\n",
    "        structure.update({parent:[]})    \n",
    "        \n",
    "structure_reversed = {}\n",
    "\n",
    "for parent in parents:\n",
    "    structure_reversed.update({parent:[]})\n",
    "    for item in structure:\n",
    "        if parent in structure[item]:\n",
    "            structure_reversed[parent].append(item)\n",
    "            \n",
    "for item in classes:\n",
    "    if item not in list(structure_reversed.keys()):\n",
    "        structure_reversed.update({item:[]})\n",
    "        \n",
    "def find_path(graph, start, end, path=[]):\n",
    "        path = path + [start]\n",
    "        if start == end:\n",
    "            return path\n",
    "        if start not in graph:\n",
    "            return None\n",
    "        for node in graph[start]:\n",
    "            if node not in path:\n",
    "                newpath = find_path(graph, node, end, path)\n",
    "                if newpath: return newpath\n",
    "        return None  \n",
    "    \n",
    "classes = sorted(classes)\n",
    "\n",
    "for k in classes:\n",
    "    counter = 0\n",
    "    for i in classes:\n",
    "        if i == k:\n",
    "            counter += 1\n",
    "        else:\n",
    "            if find_path(structure_reversed, k, i) != None:\n",
    "                counter += 1\n",
    "    print(k,':', counter)   "
   ]
  }
 ],
 "metadata": {
  "kernelspec": {
   "display_name": "Python 3",
   "language": "python",
   "name": "python3"
  },
  "language_info": {
   "codemirror_mode": {
    "name": "ipython",
    "version": 3
   },
   "file_extension": ".py",
   "mimetype": "text/x-python",
   "name": "python",
   "nbconvert_exporter": "python",
   "pygments_lexer": "ipython3",
   "version": "3.7.6"
  }
 },
 "nbformat": 4,
 "nbformat_minor": 4
}
