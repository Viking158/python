{
 "cells": [
  {
   "cell_type": "code",
   "execution_count": 1,
   "metadata": {},
   "outputs": [],
   "source": [
    "from bs4 import BeautifulSoup \n",
    "import re\n",
    "import requests"
   ]
  },
  {
   "cell_type": "code",
   "execution_count": 47,
   "metadata": {},
   "outputs": [
    {
     "name": "stdout",
     "output_type": "stream",
     "text": [
      "1005425\n"
     ]
    }
   ],
   "source": [
    "#Task 1. В файле находится одна таблица. Просуммируйте все числа в ней и введите в качестве ответа одно число - эту сумму. \n",
    "page = requests.get(\"https://stepik.org/media/attachments/lesson/209723/3.html\")\n",
    "\n",
    "page_html = str(page.text)\n",
    "soup = BeautifulSoup(page_html, 'html.parser')\n",
    "\n",
    "pattern = r\"(<td>)([\\s\\d]*)(</td>)\"\n",
    "\n",
    "numbers = re.findall(pattern, page_html)\n",
    "res = 0\n",
    "for n in numbers:\n",
    "    res += int(n[1].rstrip().lstrip())\n",
    "    \n",
    "    \n",
    "print(res)"
   ]
  },
  {
   "cell_type": "code",
   "execution_count": 76,
   "metadata": {},
   "outputs": [
    {
     "name": "stdout",
     "output_type": "stream",
     "text": [
      "29536\n"
     ]
    }
   ],
   "source": [
    "#Task 2. В файле находится одна таблица. Просуммируйте все числа в ней и введите в качестве ответа одно число - эту сумму. \n",
    "#Есть другие теги\n",
    "page = requests.get(\"https://stepik.org/media/attachments/lesson/209723/4.html\")\n",
    "\n",
    "page_html = str(page.text)\n",
    "soup = BeautifulSoup(page_html, 'html.parser')\n",
    "\n",
    "pattern = r\"> ([\\d]+) <\"\n",
    "\n",
    "numbers = soup.find_all('td')\n",
    "res = 0\n",
    "for n in numbers:\n",
    "    num = re.findall(pattern, str(n))\n",
    "    res += int(num[0])\n",
    "    \n",
    "    \n",
    "print(res)"
   ]
  },
  {
   "cell_type": "code",
   "execution_count": 77,
   "metadata": {},
   "outputs": [
    {
     "name": "stdout",
     "output_type": "stream",
     "text": [
      "28734\n"
     ]
    }
   ],
   "source": [
    "#Task 3. В файле находится одна таблица. Просуммируйте все числа в ней и введите в качестве ответа одно число - эту сумму. \\\n",
    "#Есть некорректный html-код\n",
    "page = requests.get(\"https://stepik.org/media/attachments/lesson/209723/5.html\")\n",
    "\n",
    "page_html = str(page.text)\n",
    "soup = BeautifulSoup(page_html, 'html.parser')\n",
    "\n",
    "pattern = r\"> ([\\d]+) <\"\n",
    "\n",
    "numbers = soup.find_all('td')\n",
    "res = 0\n",
    "for n in numbers:\n",
    "    num = re.findall(pattern, str(n))\n",
    "    res += int(num[0])\n",
    "    \n",
    "    \n",
    "print(res)"
   ]
  },
  {
   "cell_type": "code",
   "execution_count": null,
   "metadata": {},
   "outputs": [],
   "source": []
  }
 ],
 "metadata": {
  "kernelspec": {
   "display_name": "Python 3",
   "language": "python",
   "name": "python3"
  },
  "language_info": {
   "codemirror_mode": {
    "name": "ipython",
    "version": 3
   },
   "file_extension": ".py",
   "mimetype": "text/x-python",
   "name": "python",
   "nbconvert_exporter": "python",
   "pygments_lexer": "ipython3",
   "version": "3.7.6"
  }
 },
 "nbformat": 4,
 "nbformat_minor": 4
}
