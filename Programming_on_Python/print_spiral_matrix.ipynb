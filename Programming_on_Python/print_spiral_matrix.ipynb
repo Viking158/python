{
 "cells": [
  {
   "cell_type": "code",
   "execution_count": 1,
   "metadata": {},
   "outputs": [
    {
     "name": "stdout",
     "output_type": "stream",
     "text": [
      "3\n",
      "1 2 3 \n",
      "8 9 4 \n",
      "7 6 5 \n"
     ]
    }
   ],
   "source": [
    "n = int(input())\n",
    "a = [0] * n\n",
    "for i in range(n):\n",
    "    a[i] = [0] * n\n",
    "right = True\n",
    "r = 0\n",
    "left = False\n",
    "l = n - 1\n",
    "up = False\n",
    "u = 0\n",
    "down = False\n",
    "d = n - 1\n",
    "i = 1\n",
    "while i <= n**2:\n",
    "#for ii in range(1, n**2):\n",
    "    if right == True:\n",
    "        col = u\n",
    "        while col < n and a[r][col] == 0:\n",
    "            a[r][col] = i\n",
    "            col += 1\n",
    "            i += 1\n",
    "        right = False \n",
    "        r += 1\n",
    "        down = True\n",
    "    if left == True:\n",
    "        col = l - 1\n",
    "        while col >=0  and a[l][col] == 0:\n",
    "            a[l][col] = i\n",
    "            col -= 1\n",
    "            i += 1\n",
    "        left = False \n",
    "        l -= 1\n",
    "        up = True\n",
    "    if down == True:\n",
    "        row = r\n",
    "        while row < n and a[row][d] == 0:\n",
    "            a[row][d] = i\n",
    "            row += 1\n",
    "            i += 1\n",
    "        down = False \n",
    "        d -= 1\n",
    "        left = True\n",
    "    if up == True: \n",
    "        row = l\n",
    "        while row >= 0 and a[row][u] == 0:\n",
    "            a[row][u] = i\n",
    "            row -= 1\n",
    "            i += 1\n",
    "        up = False \n",
    "        u +=1\n",
    "        right = True\n",
    "        \n",
    "        pass\n",
    "\n",
    "for k in range(n):\n",
    "    s = ''\n",
    "    for i in range(n):\n",
    "        s += str(a[k][i]) + \" \"\n",
    "    print(s)   "
   ]
  },
  {
   "cell_type": "code",
   "execution_count": null,
   "metadata": {},
   "outputs": [],
   "source": []
  },
  {
   "cell_type": "code",
   "execution_count": null,
   "metadata": {},
   "outputs": [],
   "source": []
  }
 ],
 "metadata": {
  "kernelspec": {
   "display_name": "Python 3",
   "language": "python",
   "name": "python3"
  },
  "language_info": {
   "codemirror_mode": {
    "name": "ipython",
    "version": 3
   },
   "file_extension": ".py",
   "mimetype": "text/x-python",
   "name": "python",
   "nbconvert_exporter": "python",
   "pygments_lexer": "ipython3",
   "version": "3.7.6"
  }
 },
 "nbformat": 4,
 "nbformat_minor": 4
}
