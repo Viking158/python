{
 "cells": [
  {
   "cell_type": "code",
   "execution_count": null,
   "metadata": {},
   "outputs": [],
   "source": [
    "import re\n",
    "import requests\n",
    "a = input()\n",
    "b = input()\n",
    "a = requests.get(a)\n",
    "a_content = str(a.content)\n",
    "pattern = r\"(<a href=\\\"[\\w.:/]*\\\")\"\n",
    "a_links = re.findall(pattern, a_content)\n",
    "flag = 0\n",
    "for link in a_links:\n",
    "    current_link = link[9:len(link)-1] \n",
    "    c = requests.get(current_link)\n",
    "    c_content = str(c.content)\n",
    "    c_links = re.findall(pattern, c_content)\n",
    "    for c_link in c_links:\n",
    "        current_link = c_link[9:len(c_link)-1]\n",
    "        if current_link == b:\n",
    "            print(\"Yes\")\n",
    "            flag = 2\n",
    "            break\n",
    "        if flag == 2:\n",
    "            break\n",
    "if flag == 0:\n",
    "    print(\"No\")     "
   ]
  }
 ],
 "metadata": {
  "kernelspec": {
   "display_name": "Python 3",
   "language": "python",
   "name": "python3"
  },
  "language_info": {
   "codemirror_mode": {
    "name": "ipython",
    "version": 3
   },
   "file_extension": ".py",
   "mimetype": "text/x-python",
   "name": "python",
   "nbconvert_exporter": "python",
   "pygments_lexer": "ipython3",
   "version": "3.7.6"
  }
 },
 "nbformat": 4,
 "nbformat_minor": 4
}
