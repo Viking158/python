{
 "cells": [
  {
   "cell_type": "code",
   "execution_count": null,
   "metadata": {},
   "outputs": [],
   "source": [
    "n = int(input())\n",
    "classes = dict()\n",
    "\n",
    "\n",
    "def find_path(graph, start, end, path=[]):\n",
    "        path = path + [start]\n",
    "        if start == end:\n",
    "            return path\n",
    "        if start not in graph:\n",
    "            return None\n",
    "        for node in graph[start]:\n",
    "            if node not in path:\n",
    "                newpath = find_path(graph, node, end, path)\n",
    "                if newpath: return newpath\n",
    "        return None    \n",
    "    \n",
    "def result(classes, parent, child):\n",
    "    if parent == child:\n",
    "        return 'Yes' \n",
    "    elif not(parent or child) in classes or not find_path(classes, child, parent):\n",
    "        return 'No'\n",
    "    else:\n",
    "        return 'Yes'    \n",
    "def add_class(class_description):\n",
    "    if class_description[0] not in classes.keys():\n",
    "        classes.update({class_description[0]:[]})\n",
    "    for parent in class_description[2:]:\n",
    "    if class_description[0] not in classes.keys()\n",
    "\n",
    "        if parent not in classes.keys():\n",
    "            classes.update({parent:[]}) \n",
    "        if parent not in classes[class_description[0]]:\n",
    "                classes[class_description[0]].append(parent)    \n",
    "\n",
    "for i in range(n):\n",
    "    class_description = input().split()\n",
    "    add_class(class_description)\n",
    "           \n",
    "questions = []\n",
    "q = int(input())\n",
    "for i in range(q):\n",
    "    question = input()\n",
    "    questions.append(question)\n",
    "    flag = 0\n",
    "    for k in range(len(questions)):\n",
    "        if question != questions[k]:\n",
    "            if find_path(classes, question, questions[k]) != None:\n",
    "                flag = 1\n",
    "    if flag == 1:\n",
    "        print(question)"
   ]
  }
 ],
 "metadata": {
  "kernelspec": {
   "display_name": "Python 3",
   "language": "python",
   "name": "python3"
  },
  "language_info": {
   "codemirror_mode": {
    "name": "ipython",
    "version": 3
   },
   "file_extension": ".py",
   "mimetype": "text/x-python",
   "name": "python",
   "nbconvert_exporter": "python",
   "pygments_lexer": "ipython3",
   "version": "3.7.6"
  }
 },
 "nbformat": 4,
 "nbformat_minor": 4
}
