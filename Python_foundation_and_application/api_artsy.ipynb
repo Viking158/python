{
 "cells": [
  {
   "cell_type": "markdown",
   "metadata": {},
   "source": [
    "В этой задаче вам необходимо воспользоваться API сайта artsy.net\n",
    "API проекта Artsy предоставляет информацию о некоторых деятелях искусства, их работах, выставках.\n",
    "В рамках данной задачи вам понадобятся сведения о деятелях искусства (назовем их, условно, художники).\n",
    "Вам даны идентификаторы художников в базе Artsy.\n",
    "Для каждого идентификатора получите информацию о имени художника и годе рождения.\n",
    "Выведите имена художников в порядке неубывания года рождения. В случае если у художников одинаковый год рождения, выведите их имена в лексикографическом порядке."
   ]
  },
  {
   "cell_type": "code",
   "execution_count": 2,
   "metadata": {},
   "outputs": [],
   "source": [
    "import requests\n",
    "import json"
   ]
  },
  {
   "cell_type": "code",
   "execution_count": 3,
   "metadata": {},
   "outputs": [],
   "source": [
    "client_id = '///'\n",
    "client_secret = '///'\n",
    "\n",
    "# инициируем запрос на получение токена\n",
    "r = requests.post(\"https://api.artsy.net/api/tokens/xapp_token\",\n",
    "                  data={\n",
    "                      \"client_id\": client_id,\n",
    "                      \"client_secret\": client_secret\n",
    "                  })\n",
    "\n",
    "# разбираем ответ сервера\n",
    "j = json.loads(r.text)\n",
    "\n",
    "# достаем токен\n",
    "token = j[\"token\"]"
   ]
  },
  {
   "cell_type": "code",
   "execution_count": 5,
   "metadata": {},
   "outputs": [],
   "source": [
    "# создаем заголовок, содержащий наш токен\n",
    "headers = {\"X-Xapp-Token\" : token}\n",
    "# инициируем запрос с заголовком\n",
    "r = requests.get(\"https://api.artsy.net/api/artists/4d8b92b34eb68a1b2c0003f4\", headers=headers)\n",
    "\n",
    "# разбираем ответ сервера\n",
    "j = json.loads(r.text)"
   ]
  },
  {
   "cell_type": "code",
   "execution_count": 30,
   "metadata": {},
   "outputs": [],
   "source": [
    "artists = {}\n",
    "with open(\"dataset_24476_4.txt\") as f:\n",
    "    for line in f:\n",
    "        url_template = \"https://api.artsy.net/api/artists/{}\" \n",
    "        data = requests.get(url_template.format(line).rstrip(), headers = headers)\n",
    "        data.encoding = 'utf-8'\n",
    "        res = json.loads(data.text)\n",
    "        artists.update({res['sortable_name']:res['birthday']})\n",
    "artists = sorted(artists.items(), key=lambda x: (x[1], x[0]))        "
   ]
  },
  {
   "cell_type": "code",
   "execution_count": 31,
   "metadata": {},
   "outputs": [
    {
     "name": "stdout",
     "output_type": "stream",
     "text": [
      "Abildgaard Nicolai\n",
      "Abbati Vincenzo\n",
      "Abastenia St. Leger Eberle\n",
      "Abate Claudio\n",
      "Abramović Marina\n",
      "A'Court Angela\n",
      "Aalk Patrick\n",
      "à Wengen Stefan\n",
      "Abbassy Samira\n",
      "Abboud Jumana Emil\n",
      "Abidin Adel\n",
      "Acharya Dhruvi\n",
      "Abelow Joshua\n",
      "Aasan Øystein\n",
      "Abrahams Johnny\n"
     ]
    }
   ],
   "source": [
    "for i in artists:\n",
    "    print(i[0])"
   ]
  },
  {
   "cell_type": "code",
   "execution_count": null,
   "metadata": {},
   "outputs": [],
   "source": []
  }
 ],
 "metadata": {
  "kernelspec": {
   "display_name": "Python 3",
   "language": "python",
   "name": "python3"
  },
  "language_info": {
   "codemirror_mode": {
    "name": "ipython",
    "version": 3
   },
   "file_extension": ".py",
   "mimetype": "text/x-python",
   "name": "python",
   "nbconvert_exporter": "python",
   "pygments_lexer": "ipython3",
   "version": "3.7.6"
  }
 },
 "nbformat": 4,
 "nbformat_minor": 4
}
