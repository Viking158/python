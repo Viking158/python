{
 "cells": [
  {
   "cell_type": "code",
   "execution_count": 2,
   "metadata": {},
   "outputs": [],
   "source": [
    "import sys\n",
    "import re"
   ]
  },
  {
   "cell_type": "code",
   "execution_count": 3,
   "metadata": {},
   "outputs": [],
   "source": [
    "#Task 1. Выведите строки, содержащие \"cat\" в качестве подстроки хотя бы два раза.\n",
    "pattern = r\"(cat)[\\w\\s\\d.]*(cat)[\\w\\s\\d.]*\"\n",
    "for line in sys.stdin:\n",
    "    line = line.rstrip()\n",
    "    if re.search(pattern, line) != None:\n",
    "        print(line)"
   ]
  },
  {
   "cell_type": "code",
   "execution_count": 5,
   "metadata": {},
   "outputs": [
    {
     "name": "stdout",
     "output_type": "stream",
     "text": [
      "cat and cat\n"
     ]
    }
   ],
   "source": [
    "#Task 2. Выведите строки, содержащие \"cat\" в качестве слова.\n",
    "pattern = r\"\\b(cat)\\b\"\n",
    "for line in sys.stdin:\n",
    "    line = line.rstrip()\n",
    "    if re.search(pattern, line) != None:\n",
    "        print(line)"
   ]
  },
  {
   "cell_type": "code",
   "execution_count": 9,
   "metadata": {},
   "outputs": [],
   "source": [
    "#Task 3. Выведите строки, содержащие две буквы \"z\", между которыми ровно три символа.\n",
    "pattern = r\"z[\\w\\s\\d]{3}z\"\n",
    "for line in sys.stdin:\n",
    "    line = line.rstrip()\n",
    "    if re.search(pattern, line) != None:\n",
    "        print(line)"
   ]
  },
  {
   "cell_type": "code",
   "execution_count": 10,
   "metadata": {},
   "outputs": [],
   "source": [
    "#Task 4. Выведите строки, содержащие обратный слеш \"\\\".\n",
    "pattern = r\"\\\\\"\n",
    "for line in sys.stdin:\n",
    "    line = line.rstrip()\n",
    "    if re.search(pattern, line) != None:\n",
    "        print(line)"
   ]
  },
  {
   "cell_type": "code",
   "execution_count": 11,
   "metadata": {},
   "outputs": [],
   "source": [
    "#Task 5. Выведите строки, содержащие слово, состоящее из двух одинаковых частей (тандемный повтор).\n",
    "pattern = r\"\\b(\\w+){2}\\b\"\n",
    "for line in sys.stdin:\n",
    "    line = line.rstrip()\n",
    "    if re.search(pattern, line) != None:\n",
    "        print(line)"
   ]
  },
  {
   "cell_type": "code",
   "execution_count": 12,
   "metadata": {},
   "outputs": [],
   "source": [
    "#Task 6. В каждой строке замените все вхождения подстроки \"human\" на подстроку \"computer\" и выведите полученные строки.\n",
    "pattern = r\"(human)\"\n",
    "for line in sys.stdin:\n",
    "    line = line.rstrip()\n",
    "    if re.search(pattern, line) != None:\n",
    "        line = re.sub(pattern, computer, line)\n",
    "        print(line)"
   ]
  },
  {
   "cell_type": "code",
   "execution_count": 13,
   "metadata": {},
   "outputs": [],
   "source": [
    "#Task 7. В каждой строке замените первое вхождение слова, состоящего только из латинских букв \"a\" (регистр не важен),\n",
    "#на слово \"argh\".\n",
    "pattern = r\"\\b([aA]+)\\b\"\n",
    "for line in sys.stdin:\n",
    "    line = line.rstrip()\n",
    "    if re.search(pattern, line) != None:\n",
    "        res = re.sub(pattern, \"argh\", line, 1)\n",
    "        print(res)"
   ]
  },
  {
   "cell_type": "code",
   "execution_count": 14,
   "metadata": {},
   "outputs": [],
   "source": [
    "#Task 7. В каждой строке поменяйте местами две первых буквы в каждом слове, состоящем хотя бы из двух букв.\n",
    "pattern = r\"\\b(\\w)(\\w)\"\n",
    "p2 = r\"\\2\\1\"\n",
    "for line in sys.stdin:\n",
    "    line = line.rstrip()\n",
    "    if re.search(pattern, line) != None:\n",
    "        res = re.sub(r\"\\b(\\w)(\\w)\", r\"\\2\\1\", line)\n",
    "        print(res)"
   ]
  },
  {
   "cell_type": "code",
   "execution_count": 15,
   "metadata": {},
   "outputs": [],
   "source": [
    "#Task 7. В каждой строке поменяйте местами две первых буквы в каждом слове, состоящем хотя бы из двух букв.\n",
    "pattern = r\"\\b(\\w)(\\w)\"\n",
    "p2 = r\"\\2\\1\"\n",
    "for line in sys.stdin:\n",
    "    line = line.rstrip()\n",
    "    if re.search(pattern, line) != None:\n",
    "        res = re.sub(r\"\\b(\\w)(\\w)\", r\"\\2\\1\", line)\n",
    "        print(res)"
   ]
  },
  {
   "cell_type": "code",
   "execution_count": 16,
   "metadata": {},
   "outputs": [],
   "source": [
    "#Task 8. В каждой строке замените все вхождения нескольких одинаковых букв на одну букву.\n",
    "pattern = r\"(\\w)\\1\\1*\"\n",
    "for line in sys.stdin:\n",
    "    line = line.rstrip()\n",
    "    if re.search(pattern, line) != None:\n",
    "        res = re.sub(pattern, r\"\\1\", line)\n",
    "        print(res)\n",
    "    else:\n",
    "        print(line)"
   ]
  },
  {
   "cell_type": "code",
   "execution_count": null,
   "metadata": {},
   "outputs": [],
   "source": []
  }
 ],
 "metadata": {
  "kernelspec": {
   "display_name": "Python 3",
   "language": "python",
   "name": "python3"
  }
 },
 "nbformat": 4,
 "nbformat_minor": 4
}
